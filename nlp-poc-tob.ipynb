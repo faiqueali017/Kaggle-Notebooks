{
 "cells": [
  {
   "cell_type": "code",
   "execution_count": 1,
   "id": "d181db1a",
   "metadata": {
    "_cell_guid": "b1076dfc-b9ad-4769-8c92-a6c4dae69d19",
    "_uuid": "8f2839f25d086af736a60e9eeb907d3b93b6e0e5",
    "execution": {
     "iopub.execute_input": "2023-12-05T17:08:00.895482Z",
     "iopub.status.busy": "2023-12-05T17:08:00.895066Z",
     "iopub.status.idle": "2023-12-05T17:08:50.400328Z",
     "shell.execute_reply": "2023-12-05T17:08:50.399056Z"
    },
    "papermill": {
     "duration": 49.511876,
     "end_time": "2023-12-05T17:08:50.402709",
     "exception": false,
     "start_time": "2023-12-05T17:08:00.890833",
     "status": "completed"
    },
    "tags": []
   },
   "outputs": [],
   "source": [
    "!pip install -q -U git+https://github.com/huggingface/transformers"
   ]
  },
  {
   "cell_type": "code",
   "execution_count": 2,
   "id": "711f64cd",
   "metadata": {
    "execution": {
     "iopub.execute_input": "2023-12-05T17:08:50.409512Z",
     "iopub.status.busy": "2023-12-05T17:08:50.408916Z",
     "iopub.status.idle": "2023-12-05T17:11:09.784564Z",
     "shell.execute_reply": "2023-12-05T17:11:09.783556Z"
    },
    "papermill": {
     "duration": 139.38146,
     "end_time": "2023-12-05T17:11:09.786939",
     "exception": false,
     "start_time": "2023-12-05T17:08:50.405479",
     "status": "completed"
    },
    "tags": []
   },
   "outputs": [
    {
     "data": {
      "application/vnd.jupyter.widget-view+json": {
       "model_id": "1fd6a7d40d784bf1bd62e32b4ad9870e",
       "version_major": 2,
       "version_minor": 0
      },
      "text/plain": [
       "Loading checkpoint shards:   0%|          | 0/2 [00:00<?, ?it/s]"
      ]
     },
     "metadata": {},
     "output_type": "display_data"
    }
   ],
   "source": [
    "import torch\n",
    "from transformers import AutoTokenizer\n",
    "from transformers import AutoModelForCausalLM\n",
    "\n",
    "model_path=\"/kaggle/input/mistral/pytorch/7b-instruct-v0.1-hf/1\"\n",
    "\n",
    "tokenizer=AutoTokenizer.from_pretrained(model_path)\n",
    "\n",
    "model = AutoModelForCausalLM.from_pretrained(\n",
    "    model_path,\n",
    "    torch_dtype = torch.bfloat16,\n",
    "    device_map = \"auto\",\n",
    "    trust_remote_code = True\n",
    ")"
   ]
  },
  {
   "cell_type": "code",
   "execution_count": 3,
   "id": "c64c5301",
   "metadata": {
    "execution": {
     "iopub.execute_input": "2023-12-05T17:11:09.794079Z",
     "iopub.status.busy": "2023-12-05T17:11:09.793633Z",
     "iopub.status.idle": "2023-12-05T17:11:09.801635Z",
     "shell.execute_reply": "2023-12-05T17:11:09.800769Z"
    },
    "papermill": {
     "duration": 0.013674,
     "end_time": "2023-12-05T17:11:09.803493",
     "exception": false,
     "start_time": "2023-12-05T17:11:09.789819",
     "status": "completed"
    },
    "tags": []
   },
   "outputs": [],
   "source": [
    "def generate_essay(prompt):\n",
    "    messages = [{\n",
    "        \"role\":\"user\",\n",
    "        \"content\": prompt\n",
    "    }]\n",
    "\n",
    "    model_inputs = tokenizer.apply_chat_template(messages, return_tensors = \"pt\").to('cuda')\n",
    "    \n",
    "    # Setting `pad_token_id` to `eos_token_id` for open-ended generation.\n",
    "    generated_ids = model.generate(\n",
    "        model_inputs,\n",
    "        max_new_tokens = 7500,\n",
    "        do_sample = True,\n",
    "        pad_token_id = tokenizer.eos_token_id\n",
    "        \n",
    "    )\n",
    "\n",
    "    decoded = tokenizer.batch_decode(generated_ids, skip_special_tokens=True)\n",
    "    text = decoded[0].split(\"[/INST]\")[1]\n",
    "    return text\n",
    "\n",
    "prompt = '''\n",
    "Obituary Details: \n",
    "Yulonda “Lonnie” Bascia Hollis, 49, of Packard Ave., Kannapolis, N.C., passed away on Tuesday, August 31, 2021 at her residence.  She was born August 18, 1972 in Cabarrus County to Kenneth Crawford and Lorene Hollis Russell. Yulonda was educated in the Cabarrus County School System  and attended A.L. Brown High School.  She was formerly employed with FedEx.  Services will be held on Wednesday, September 8, 2021, at Living Water Church of God 166 N. Little Texas Rd. Kannapolis.  Visitation will be 1:00 PM – 2:00 PM; with funeral services at 2:00 PM. Burial will follow at Bethel Baptist Church Cemetery. She was preceded in death by a brother, Cedric Hill; grandmother, Essie Hollis and stepfathers, Robin Brown  and Cleatus Gill. She leaves to cherish fond memories two daughters, Kiana Hollis and Jasmine Hollis both of Kannapolis; one son, Clinton Thompson of Kannapolis; seven grandchildren; her parents, Kenneth Crawford (Regina) pf Mooresville, NC, Lorene Russell of Kannapolis;  fiancé, Len Harold; one brother, Rodricko Hill (Lavita) of Charlotte, NC; four sisters, Gytanna Hollis of Concord, Shakitta Hill (Jermaine Smith) of Kannapolis, Tara Crawford of Mooresville, NC, Melonie Patrice Love of Dallas, TX; grandmother, Lula Mae Brown of Charlotte, NC; grandfather, Cletus Gill (Sue) of Kannapolis; stepbrother, Rev. Chavis Maxwell (Tosha) of Kannapolis; stepsister, Tameca Robinson of Salisbury and a host of nieces, nephews, cousins and friends.\n",
    "\n",
    "Task:\n",
    "Extract the below attributes if exists from the above obituary details.\n",
    "name, age, death_city, death_state, death_date, birth_date, birth_city, mother, father, grandmother, grandfather, sons, daughters ,spouse, siblings, other_relatives, college, occupation, funeral_home_name, funeral_home_address\n",
    "\n",
    "Output: The output should be a python dictionary\n",
    "'''\n"
   ]
  },
  {
   "cell_type": "code",
   "execution_count": 4,
   "id": "4c8351c9",
   "metadata": {
    "execution": {
     "iopub.execute_input": "2023-12-05T17:11:09.809226Z",
     "iopub.status.busy": "2023-12-05T17:11:09.808980Z",
     "iopub.status.idle": "2023-12-05T17:11:46.399603Z",
     "shell.execute_reply": "2023-12-05T17:11:46.398550Z"
    },
    "papermill": {
     "duration": 36.598606,
     "end_time": "2023-12-05T17:11:46.404474",
     "exception": false,
     "start_time": "2023-12-05T17:11:09.805868",
     "status": "completed"
    },
    "tags": []
   },
   "outputs": [
    {
     "name": "stderr",
     "output_type": "stream",
     "text": [
      "/opt/conda/lib/python3.10/site-packages/scipy/__init__.py:146: UserWarning: A NumPy version >=1.16.5 and <1.23.0 is required for this version of SciPy (detected version 1.24.3\n",
      "  warnings.warn(f\"A NumPy version >={np_minversion} and <{np_maxversion}\"\n"
     ]
    },
    {
     "name": "stdout",
     "output_type": "stream",
     "text": [
      "CPU times: user 29.9 s, sys: 1.62 s, total: 31.5 s\n",
      "Wall time: 36.6 s\n"
     ]
    },
    {
     "data": {
      "text/plain": [
       "' {\\n\"name\": \"Yulonda \"Lonnie\" Bascia Hollis\",\\n\"age\": 49,\\n\"death\\\\_city\": \"Kannapolis, N.C.\",\\n\"death\\\\_state\": \"North Carolina\",\\n\"death\\\\_date\": \"August 31, 2021\",\\n\"birth\\\\_date\": \"August 18, 1972\",\\n\"birth\\\\_city\": \"Cabbartus County\",\\n\"mother\": \"Lorene Hollis Russell\",\\n\"father\": \"Kenneth Crawford\",\\n\"grandmother\": \"Essie Hollis\",\\n\"grandfather\": \"Cletus Gill\",\\n\"sons\": [\"Clinton Thompson\"],\\n\"daughters\": [\"Kiana Hollis\", \"Jasmine Hollis\"],\\n\"spouse\": \"Len Harold\",\\n\"siblings\": [\"Rodricko Hill\", \"Shakitta Hill\", \"Tara Crawford\", \"Melonie Patrice Love\", \"Rev. Chavis Maxwell\", \"Tameca Robinson\"],\\n\"college\": \"\",\\n\"occupation\": \"\",\\n\"funeral\\\\_home\\\\_name\": \"\",\\n\"funeral\\\\_home\\\\_address\": \"\"\\n}'"
      ]
     },
     "execution_count": 4,
     "metadata": {},
     "output_type": "execute_result"
    }
   ],
   "source": [
    "%%time\n",
    "\n",
    "text = generate_essay(prompt)\n",
    "text"
   ]
  },
  {
   "cell_type": "code",
   "execution_count": null,
   "id": "78b372b5",
   "metadata": {
    "papermill": {
     "duration": 0.002458,
     "end_time": "2023-12-05T17:11:46.409633",
     "exception": false,
     "start_time": "2023-12-05T17:11:46.407175",
     "status": "completed"
    },
    "tags": []
   },
   "outputs": [],
   "source": []
  }
 ],
 "metadata": {
  "kaggle": {
   "accelerator": "nvidiaTeslaT4",
   "dataSources": [
    {
     "isSourceIdPinned": true,
     "modelInstanceId": 3900,
     "sourceId": 5112,
     "sourceType": "modelInstanceVersion"
    }
   ],
   "dockerImageVersionId": 30588,
   "isGpuEnabled": true,
   "isInternetEnabled": true,
   "language": "python",
   "sourceType": "notebook"
  },
  "kernelspec": {
   "display_name": "Python 3",
   "language": "python",
   "name": "python3"
  },
  "language_info": {
   "codemirror_mode": {
    "name": "ipython",
    "version": 3
   },
   "file_extension": ".py",
   "mimetype": "text/x-python",
   "name": "python",
   "nbconvert_exporter": "python",
   "pygments_lexer": "ipython3",
   "version": "3.10.12"
  },
  "papermill": {
   "default_parameters": {},
   "duration": 231.587734,
   "end_time": "2023-12-05T17:11:49.172288",
   "environment_variables": {},
   "exception": null,
   "input_path": "__notebook__.ipynb",
   "output_path": "__notebook__.ipynb",
   "parameters": {},
   "start_time": "2023-12-05T17:07:57.584554",
   "version": "2.4.0"
  },
  "widgets": {
   "application/vnd.jupyter.widget-state+json": {
    "state": {
     "095920a147fb4acea31397a8dc83f9a8": {
      "model_module": "@jupyter-widgets/controls",
      "model_module_version": "1.5.0",
      "model_name": "HTMLModel",
      "state": {
       "_dom_classes": [],
       "_model_module": "@jupyter-widgets/controls",
       "_model_module_version": "1.5.0",
       "_model_name": "HTMLModel",
       "_view_count": null,
       "_view_module": "@jupyter-widgets/controls",
       "_view_module_version": "1.5.0",
       "_view_name": "HTMLView",
       "description": "",
       "description_tooltip": null,
       "layout": "IPY_MODEL_f67b68abb8a247e7aad20dade465ec90",
       "placeholder": "​",
       "style": "IPY_MODEL_4a18403099a24c93bb2b1fbb2e979b94",
       "value": " 2/2 [02:07&lt;00:00, 59.93s/it]"
      }
     },
     "1fd6a7d40d784bf1bd62e32b4ad9870e": {
      "model_module": "@jupyter-widgets/controls",
      "model_module_version": "1.5.0",
      "model_name": "HBoxModel",
      "state": {
       "_dom_classes": [],
       "_model_module": "@jupyter-widgets/controls",
       "_model_module_version": "1.5.0",
       "_model_name": "HBoxModel",
       "_view_count": null,
       "_view_module": "@jupyter-widgets/controls",
       "_view_module_version": "1.5.0",
       "_view_name": "HBoxView",
       "box_style": "",
       "children": [
        "IPY_MODEL_6c2d905309fa45ba99a085ed1582bcee",
        "IPY_MODEL_f37c883c98a84140aad7a9d770d99886",
        "IPY_MODEL_095920a147fb4acea31397a8dc83f9a8"
       ],
       "layout": "IPY_MODEL_5aecf22a51e94deabe5a97677b5204d4"
      }
     },
     "3ff68fa0713d4615a44fe92bf70d4d2d": {
      "model_module": "@jupyter-widgets/controls",
      "model_module_version": "1.5.0",
      "model_name": "ProgressStyleModel",
      "state": {
       "_model_module": "@jupyter-widgets/controls",
       "_model_module_version": "1.5.0",
       "_model_name": "ProgressStyleModel",
       "_view_count": null,
       "_view_module": "@jupyter-widgets/base",
       "_view_module_version": "1.2.0",
       "_view_name": "StyleView",
       "bar_color": null,
       "description_width": ""
      }
     },
     "4a18403099a24c93bb2b1fbb2e979b94": {
      "model_module": "@jupyter-widgets/controls",
      "model_module_version": "1.5.0",
      "model_name": "DescriptionStyleModel",
      "state": {
       "_model_module": "@jupyter-widgets/controls",
       "_model_module_version": "1.5.0",
       "_model_name": "DescriptionStyleModel",
       "_view_count": null,
       "_view_module": "@jupyter-widgets/base",
       "_view_module_version": "1.2.0",
       "_view_name": "StyleView",
       "description_width": ""
      }
     },
     "5aecf22a51e94deabe5a97677b5204d4": {
      "model_module": "@jupyter-widgets/base",
      "model_module_version": "1.2.0",
      "model_name": "LayoutModel",
      "state": {
       "_model_module": "@jupyter-widgets/base",
       "_model_module_version": "1.2.0",
       "_model_name": "LayoutModel",
       "_view_count": null,
       "_view_module": "@jupyter-widgets/base",
       "_view_module_version": "1.2.0",
       "_view_name": "LayoutView",
       "align_content": null,
       "align_items": null,
       "align_self": null,
       "border": null,
       "bottom": null,
       "display": null,
       "flex": null,
       "flex_flow": null,
       "grid_area": null,
       "grid_auto_columns": null,
       "grid_auto_flow": null,
       "grid_auto_rows": null,
       "grid_column": null,
       "grid_gap": null,
       "grid_row": null,
       "grid_template_areas": null,
       "grid_template_columns": null,
       "grid_template_rows": null,
       "height": null,
       "justify_content": null,
       "justify_items": null,
       "left": null,
       "margin": null,
       "max_height": null,
       "max_width": null,
       "min_height": null,
       "min_width": null,
       "object_fit": null,
       "object_position": null,
       "order": null,
       "overflow": null,
       "overflow_x": null,
       "overflow_y": null,
       "padding": null,
       "right": null,
       "top": null,
       "visibility": null,
       "width": null
      }
     },
     "6c2d905309fa45ba99a085ed1582bcee": {
      "model_module": "@jupyter-widgets/controls",
      "model_module_version": "1.5.0",
      "model_name": "HTMLModel",
      "state": {
       "_dom_classes": [],
       "_model_module": "@jupyter-widgets/controls",
       "_model_module_version": "1.5.0",
       "_model_name": "HTMLModel",
       "_view_count": null,
       "_view_module": "@jupyter-widgets/controls",
       "_view_module_version": "1.5.0",
       "_view_name": "HTMLView",
       "description": "",
       "description_tooltip": null,
       "layout": "IPY_MODEL_e0758e0657654d729bba549bcc1f666b",
       "placeholder": "​",
       "style": "IPY_MODEL_a39b04c0bdf548218f1a3a75b0f423a9",
       "value": "Loading checkpoint shards: 100%"
      }
     },
     "a39b04c0bdf548218f1a3a75b0f423a9": {
      "model_module": "@jupyter-widgets/controls",
      "model_module_version": "1.5.0",
      "model_name": "DescriptionStyleModel",
      "state": {
       "_model_module": "@jupyter-widgets/controls",
       "_model_module_version": "1.5.0",
       "_model_name": "DescriptionStyleModel",
       "_view_count": null,
       "_view_module": "@jupyter-widgets/base",
       "_view_module_version": "1.2.0",
       "_view_name": "StyleView",
       "description_width": ""
      }
     },
     "bd5fc717348c4354ab311ced74f74b4f": {
      "model_module": "@jupyter-widgets/base",
      "model_module_version": "1.2.0",
      "model_name": "LayoutModel",
      "state": {
       "_model_module": "@jupyter-widgets/base",
       "_model_module_version": "1.2.0",
       "_model_name": "LayoutModel",
       "_view_count": null,
       "_view_module": "@jupyter-widgets/base",
       "_view_module_version": "1.2.0",
       "_view_name": "LayoutView",
       "align_content": null,
       "align_items": null,
       "align_self": null,
       "border": null,
       "bottom": null,
       "display": null,
       "flex": null,
       "flex_flow": null,
       "grid_area": null,
       "grid_auto_columns": null,
       "grid_auto_flow": null,
       "grid_auto_rows": null,
       "grid_column": null,
       "grid_gap": null,
       "grid_row": null,
       "grid_template_areas": null,
       "grid_template_columns": null,
       "grid_template_rows": null,
       "height": null,
       "justify_content": null,
       "justify_items": null,
       "left": null,
       "margin": null,
       "max_height": null,
       "max_width": null,
       "min_height": null,
       "min_width": null,
       "object_fit": null,
       "object_position": null,
       "order": null,
       "overflow": null,
       "overflow_x": null,
       "overflow_y": null,
       "padding": null,
       "right": null,
       "top": null,
       "visibility": null,
       "width": null
      }
     },
     "e0758e0657654d729bba549bcc1f666b": {
      "model_module": "@jupyter-widgets/base",
      "model_module_version": "1.2.0",
      "model_name": "LayoutModel",
      "state": {
       "_model_module": "@jupyter-widgets/base",
       "_model_module_version": "1.2.0",
       "_model_name": "LayoutModel",
       "_view_count": null,
       "_view_module": "@jupyter-widgets/base",
       "_view_module_version": "1.2.0",
       "_view_name": "LayoutView",
       "align_content": null,
       "align_items": null,
       "align_self": null,
       "border": null,
       "bottom": null,
       "display": null,
       "flex": null,
       "flex_flow": null,
       "grid_area": null,
       "grid_auto_columns": null,
       "grid_auto_flow": null,
       "grid_auto_rows": null,
       "grid_column": null,
       "grid_gap": null,
       "grid_row": null,
       "grid_template_areas": null,
       "grid_template_columns": null,
       "grid_template_rows": null,
       "height": null,
       "justify_content": null,
       "justify_items": null,
       "left": null,
       "margin": null,
       "max_height": null,
       "max_width": null,
       "min_height": null,
       "min_width": null,
       "object_fit": null,
       "object_position": null,
       "order": null,
       "overflow": null,
       "overflow_x": null,
       "overflow_y": null,
       "padding": null,
       "right": null,
       "top": null,
       "visibility": null,
       "width": null
      }
     },
     "f37c883c98a84140aad7a9d770d99886": {
      "model_module": "@jupyter-widgets/controls",
      "model_module_version": "1.5.0",
      "model_name": "FloatProgressModel",
      "state": {
       "_dom_classes": [],
       "_model_module": "@jupyter-widgets/controls",
       "_model_module_version": "1.5.0",
       "_model_name": "FloatProgressModel",
       "_view_count": null,
       "_view_module": "@jupyter-widgets/controls",
       "_view_module_version": "1.5.0",
       "_view_name": "ProgressView",
       "bar_style": "success",
       "description": "",
       "description_tooltip": null,
       "layout": "IPY_MODEL_bd5fc717348c4354ab311ced74f74b4f",
       "max": 2.0,
       "min": 0.0,
       "orientation": "horizontal",
       "style": "IPY_MODEL_3ff68fa0713d4615a44fe92bf70d4d2d",
       "value": 2.0
      }
     },
     "f67b68abb8a247e7aad20dade465ec90": {
      "model_module": "@jupyter-widgets/base",
      "model_module_version": "1.2.0",
      "model_name": "LayoutModel",
      "state": {
       "_model_module": "@jupyter-widgets/base",
       "_model_module_version": "1.2.0",
       "_model_name": "LayoutModel",
       "_view_count": null,
       "_view_module": "@jupyter-widgets/base",
       "_view_module_version": "1.2.0",
       "_view_name": "LayoutView",
       "align_content": null,
       "align_items": null,
       "align_self": null,
       "border": null,
       "bottom": null,
       "display": null,
       "flex": null,
       "flex_flow": null,
       "grid_area": null,
       "grid_auto_columns": null,
       "grid_auto_flow": null,
       "grid_auto_rows": null,
       "grid_column": null,
       "grid_gap": null,
       "grid_row": null,
       "grid_template_areas": null,
       "grid_template_columns": null,
       "grid_template_rows": null,
       "height": null,
       "justify_content": null,
       "justify_items": null,
       "left": null,
       "margin": null,
       "max_height": null,
       "max_width": null,
       "min_height": null,
       "min_width": null,
       "object_fit": null,
       "object_position": null,
       "order": null,
       "overflow": null,
       "overflow_x": null,
       "overflow_y": null,
       "padding": null,
       "right": null,
       "top": null,
       "visibility": null,
       "width": null
      }
     }
    },
    "version_major": 2,
    "version_minor": 0
   }
  }
 },
 "nbformat": 4,
 "nbformat_minor": 5
}
