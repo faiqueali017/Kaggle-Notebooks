{
 "cells": [
  {
   "cell_type": "markdown",
   "id": "152ac342",
   "metadata": {
    "papermill": {
     "duration": 0.00396,
     "end_time": "2024-01-06T16:25:31.273821",
     "exception": false,
     "start_time": "2024-01-06T16:25:31.269861",
     "status": "completed"
    },
    "tags": []
   },
   "source": [
    "# Imports"
   ]
  },
  {
   "cell_type": "code",
   "execution_count": 1,
   "id": "d6749a77",
   "metadata": {
    "execution": {
     "iopub.execute_input": "2024-01-06T16:25:31.283038Z",
     "iopub.status.busy": "2024-01-06T16:25:31.282574Z",
     "iopub.status.idle": "2024-01-06T16:25:31.779283Z",
     "shell.execute_reply": "2024-01-06T16:25:31.778066Z"
    },
    "papermill": {
     "duration": 0.505269,
     "end_time": "2024-01-06T16:25:31.782774",
     "exception": false,
     "start_time": "2024-01-06T16:25:31.277505",
     "status": "completed"
    },
    "tags": []
   },
   "outputs": [],
   "source": [
    "import pandas as pd"
   ]
  },
  {
   "cell_type": "markdown",
   "id": "4fbc9ca8",
   "metadata": {
    "papermill": {
     "duration": 0.004423,
     "end_time": "2024-01-06T16:25:31.792043",
     "exception": false,
     "start_time": "2024-01-06T16:25:31.787620",
     "status": "completed"
    },
    "tags": []
   },
   "source": [
    "# Constant"
   ]
  },
  {
   "cell_type": "code",
   "execution_count": 2,
   "id": "8ad4d6eb",
   "metadata": {
    "execution": {
     "iopub.execute_input": "2024-01-06T16:25:31.803967Z",
     "iopub.status.busy": "2024-01-06T16:25:31.802821Z",
     "iopub.status.idle": "2024-01-06T16:25:31.808446Z",
     "shell.execute_reply": "2024-01-06T16:25:31.807345Z"
    },
    "papermill": {
     "duration": 0.014678,
     "end_time": "2024-01-06T16:25:31.811496",
     "exception": false,
     "start_time": "2024-01-06T16:25:31.796818",
     "status": "completed"
    },
    "tags": []
   },
   "outputs": [],
   "source": [
    "DATASET_PATH = '/kaggle/input/stock-exchange-data/indexData.csv'\n",
    "NEW_YORK_STOCK_EXCHANGE_CODE = 'NYA'"
   ]
  },
  {
   "cell_type": "markdown",
   "id": "9977e440",
   "metadata": {
    "papermill": {
     "duration": 0.003935,
     "end_time": "2024-01-06T16:25:31.820420",
     "exception": false,
     "start_time": "2024-01-06T16:25:31.816485",
     "status": "completed"
    },
    "tags": []
   },
   "source": [
    "# Code"
   ]
  },
  {
   "cell_type": "code",
   "execution_count": 3,
   "id": "bd0bff63",
   "metadata": {
    "execution": {
     "iopub.execute_input": "2024-01-06T16:25:31.830374Z",
     "iopub.status.busy": "2024-01-06T16:25:31.829306Z",
     "iopub.status.idle": "2024-01-06T16:25:32.198464Z",
     "shell.execute_reply": "2024-01-06T16:25:32.197558Z"
    },
    "papermill": {
     "duration": 0.377317,
     "end_time": "2024-01-06T16:25:32.201311",
     "exception": false,
     "start_time": "2024-01-06T16:25:31.823994",
     "status": "completed"
    },
    "tags": []
   },
   "outputs": [
    {
     "data": {
      "text/html": [
       "<div>\n",
       "<style scoped>\n",
       "    .dataframe tbody tr th:only-of-type {\n",
       "        vertical-align: middle;\n",
       "    }\n",
       "\n",
       "    .dataframe tbody tr th {\n",
       "        vertical-align: top;\n",
       "    }\n",
       "\n",
       "    .dataframe thead th {\n",
       "        text-align: right;\n",
       "    }\n",
       "</style>\n",
       "<table border=\"1\" class=\"dataframe\">\n",
       "  <thead>\n",
       "    <tr style=\"text-align: right;\">\n",
       "      <th></th>\n",
       "      <th>Index</th>\n",
       "      <th>Date</th>\n",
       "      <th>Open</th>\n",
       "      <th>High</th>\n",
       "      <th>Low</th>\n",
       "      <th>Close</th>\n",
       "      <th>Adj Close</th>\n",
       "      <th>Volume</th>\n",
       "    </tr>\n",
       "  </thead>\n",
       "  <tbody>\n",
       "    <tr>\n",
       "      <th>0</th>\n",
       "      <td>NYA</td>\n",
       "      <td>1965-12-31</td>\n",
       "      <td>528.690002</td>\n",
       "      <td>528.690002</td>\n",
       "      <td>528.690002</td>\n",
       "      <td>528.690002</td>\n",
       "      <td>528.690002</td>\n",
       "      <td>0.0</td>\n",
       "    </tr>\n",
       "    <tr>\n",
       "      <th>1</th>\n",
       "      <td>NYA</td>\n",
       "      <td>1966-01-03</td>\n",
       "      <td>527.210022</td>\n",
       "      <td>527.210022</td>\n",
       "      <td>527.210022</td>\n",
       "      <td>527.210022</td>\n",
       "      <td>527.210022</td>\n",
       "      <td>0.0</td>\n",
       "    </tr>\n",
       "    <tr>\n",
       "      <th>2</th>\n",
       "      <td>NYA</td>\n",
       "      <td>1966-01-04</td>\n",
       "      <td>527.840027</td>\n",
       "      <td>527.840027</td>\n",
       "      <td>527.840027</td>\n",
       "      <td>527.840027</td>\n",
       "      <td>527.840027</td>\n",
       "      <td>0.0</td>\n",
       "    </tr>\n",
       "    <tr>\n",
       "      <th>3</th>\n",
       "      <td>NYA</td>\n",
       "      <td>1966-01-05</td>\n",
       "      <td>531.119995</td>\n",
       "      <td>531.119995</td>\n",
       "      <td>531.119995</td>\n",
       "      <td>531.119995</td>\n",
       "      <td>531.119995</td>\n",
       "      <td>0.0</td>\n",
       "    </tr>\n",
       "    <tr>\n",
       "      <th>4</th>\n",
       "      <td>NYA</td>\n",
       "      <td>1966-01-06</td>\n",
       "      <td>532.070007</td>\n",
       "      <td>532.070007</td>\n",
       "      <td>532.070007</td>\n",
       "      <td>532.070007</td>\n",
       "      <td>532.070007</td>\n",
       "      <td>0.0</td>\n",
       "    </tr>\n",
       "  </tbody>\n",
       "</table>\n",
       "</div>"
      ],
      "text/plain": [
       "  Index        Date        Open        High         Low       Close  \\\n",
       "0   NYA  1965-12-31  528.690002  528.690002  528.690002  528.690002   \n",
       "1   NYA  1966-01-03  527.210022  527.210022  527.210022  527.210022   \n",
       "2   NYA  1966-01-04  527.840027  527.840027  527.840027  527.840027   \n",
       "3   NYA  1966-01-05  531.119995  531.119995  531.119995  531.119995   \n",
       "4   NYA  1966-01-06  532.070007  532.070007  532.070007  532.070007   \n",
       "\n",
       "    Adj Close  Volume  \n",
       "0  528.690002     0.0  \n",
       "1  527.210022     0.0  \n",
       "2  527.840027     0.0  \n",
       "3  531.119995     0.0  \n",
       "4  532.070007     0.0  "
      ]
     },
     "execution_count": 3,
     "metadata": {},
     "output_type": "execute_result"
    }
   ],
   "source": [
    "df = pd.read_csv(DATASET_PATH)\n",
    "df.head(5)"
   ]
  },
  {
   "cell_type": "code",
   "execution_count": 4,
   "id": "d6b2b583",
   "metadata": {
    "execution": {
     "iopub.execute_input": "2024-01-06T16:25:32.210798Z",
     "iopub.status.busy": "2024-01-06T16:25:32.210384Z",
     "iopub.status.idle": "2024-01-06T16:25:32.242595Z",
     "shell.execute_reply": "2024-01-06T16:25:32.241436Z"
    },
    "papermill": {
     "duration": 0.039954,
     "end_time": "2024-01-06T16:25:32.245103",
     "exception": false,
     "start_time": "2024-01-06T16:25:32.205149",
     "status": "completed"
    },
    "tags": []
   },
   "outputs": [
    {
     "data": {
      "text/plain": [
       "111584"
      ]
     },
     "execution_count": 4,
     "metadata": {},
     "output_type": "execute_result"
    }
   ],
   "source": [
    "nya_df = df[df['Index'] == NEW_YORK_STOCK_EXCHANGE_CODE]\n",
    "nya_df.size"
   ]
  },
  {
   "cell_type": "code",
   "execution_count": null,
   "id": "71e0e8a0",
   "metadata": {
    "papermill": {
     "duration": 0.003586,
     "end_time": "2024-01-06T16:25:32.252860",
     "exception": false,
     "start_time": "2024-01-06T16:25:32.249274",
     "status": "completed"
    },
    "tags": []
   },
   "outputs": [],
   "source": []
  }
 ],
 "metadata": {
  "kaggle": {
   "accelerator": "none",
   "dataSources": [
    {
     "datasetId": 1387282,
     "sourceId": 2312307,
     "sourceType": "datasetVersion"
    }
   ],
   "dockerImageVersionId": 30626,
   "isGpuEnabled": false,
   "isInternetEnabled": true,
   "language": "python",
   "sourceType": "notebook"
  },
  "kernelspec": {
   "display_name": "Python 3",
   "language": "python",
   "name": "python3"
  },
  "language_info": {
   "codemirror_mode": {
    "name": "ipython",
    "version": 3
   },
   "file_extension": ".py",
   "mimetype": "text/x-python",
   "name": "python",
   "nbconvert_exporter": "python",
   "pygments_lexer": "ipython3",
   "version": "3.10.12"
  },
  "papermill": {
   "default_parameters": {},
   "duration": 5.059624,
   "end_time": "2024-01-06T16:25:32.777447",
   "environment_variables": {},
   "exception": null,
   "input_path": "__notebook__.ipynb",
   "output_path": "__notebook__.ipynb",
   "parameters": {},
   "start_time": "2024-01-06T16:25:27.717823",
   "version": "2.4.0"
  }
 },
 "nbformat": 4,
 "nbformat_minor": 5
}
