{
 "cells": [
  {
   "cell_type": "markdown",
   "id": "d4f38a12",
   "metadata": {
    "papermill": {
     "duration": 0.00358,
     "end_time": "2024-01-06T16:33:06.433783",
     "exception": false,
     "start_time": "2024-01-06T16:33:06.430203",
     "status": "completed"
    },
    "tags": []
   },
   "source": [
    "# Imports"
   ]
  },
  {
   "cell_type": "code",
   "execution_count": 1,
   "id": "eb9a949e",
   "metadata": {
    "execution": {
     "iopub.execute_input": "2024-01-06T16:33:06.441935Z",
     "iopub.status.busy": "2024-01-06T16:33:06.441526Z",
     "iopub.status.idle": "2024-01-06T16:33:07.760053Z",
     "shell.execute_reply": "2024-01-06T16:33:07.758881Z"
    },
    "papermill": {
     "duration": 1.325606,
     "end_time": "2024-01-06T16:33:07.762796",
     "exception": false,
     "start_time": "2024-01-06T16:33:06.437190",
     "status": "completed"
    },
    "tags": []
   },
   "outputs": [],
   "source": [
    "import warnings\n",
    "import pandas as pd\n",
    "import numpy as np\n",
    "import matplotlib.pyplot as plt\n",
    "from scipy.stats import shapiro, probplot\n",
    "\n",
    "warnings.simplefilter('ignore')"
   ]
  },
  {
   "cell_type": "markdown",
   "id": "1f24ed0f",
   "metadata": {
    "papermill": {
     "duration": 0.002977,
     "end_time": "2024-01-06T16:33:07.769321",
     "exception": false,
     "start_time": "2024-01-06T16:33:07.766344",
     "status": "completed"
    },
    "tags": []
   },
   "source": [
    "# Constant"
   ]
  },
  {
   "cell_type": "code",
   "execution_count": 2,
   "id": "785563d0",
   "metadata": {
    "execution": {
     "iopub.execute_input": "2024-01-06T16:33:07.777684Z",
     "iopub.status.busy": "2024-01-06T16:33:07.777156Z",
     "iopub.status.idle": "2024-01-06T16:33:07.782074Z",
     "shell.execute_reply": "2024-01-06T16:33:07.781033Z"
    },
    "papermill": {
     "duration": 0.011791,
     "end_time": "2024-01-06T16:33:07.784276",
     "exception": false,
     "start_time": "2024-01-06T16:33:07.772485",
     "status": "completed"
    },
    "tags": []
   },
   "outputs": [],
   "source": [
    "DATASET_PATH = '/kaggle/input/stock-exchange-data/indexData.csv'\n",
    "NEW_YORK_STOCK_EXCHANGE_CODE = 'NYA'"
   ]
  },
  {
   "cell_type": "markdown",
   "id": "a6813be8",
   "metadata": {
    "papermill": {
     "duration": 0.002858,
     "end_time": "2024-01-06T16:33:07.790333",
     "exception": false,
     "start_time": "2024-01-06T16:33:07.787475",
     "status": "completed"
    },
    "tags": []
   },
   "source": [
    "# Code"
   ]
  },
  {
   "cell_type": "code",
   "execution_count": 3,
   "id": "eb1de2e1",
   "metadata": {
    "execution": {
     "iopub.execute_input": "2024-01-06T16:33:07.797895Z",
     "iopub.status.busy": "2024-01-06T16:33:07.797520Z",
     "iopub.status.idle": "2024-01-06T16:33:08.038000Z",
     "shell.execute_reply": "2024-01-06T16:33:08.036799Z"
    },
    "papermill": {
     "duration": 0.246983,
     "end_time": "2024-01-06T16:33:08.040303",
     "exception": false,
     "start_time": "2024-01-06T16:33:07.793320",
     "status": "completed"
    },
    "tags": []
   },
   "outputs": [
    {
     "data": {
      "text/html": [
       "<div>\n",
       "<style scoped>\n",
       "    .dataframe tbody tr th:only-of-type {\n",
       "        vertical-align: middle;\n",
       "    }\n",
       "\n",
       "    .dataframe tbody tr th {\n",
       "        vertical-align: top;\n",
       "    }\n",
       "\n",
       "    .dataframe thead th {\n",
       "        text-align: right;\n",
       "    }\n",
       "</style>\n",
       "<table border=\"1\" class=\"dataframe\">\n",
       "  <thead>\n",
       "    <tr style=\"text-align: right;\">\n",
       "      <th></th>\n",
       "      <th>Index</th>\n",
       "      <th>Date</th>\n",
       "      <th>Open</th>\n",
       "      <th>High</th>\n",
       "      <th>Low</th>\n",
       "      <th>Close</th>\n",
       "      <th>Adj Close</th>\n",
       "      <th>Volume</th>\n",
       "    </tr>\n",
       "  </thead>\n",
       "  <tbody>\n",
       "    <tr>\n",
       "      <th>0</th>\n",
       "      <td>NYA</td>\n",
       "      <td>1965-12-31</td>\n",
       "      <td>528.690002</td>\n",
       "      <td>528.690002</td>\n",
       "      <td>528.690002</td>\n",
       "      <td>528.690002</td>\n",
       "      <td>528.690002</td>\n",
       "      <td>0.0</td>\n",
       "    </tr>\n",
       "    <tr>\n",
       "      <th>1</th>\n",
       "      <td>NYA</td>\n",
       "      <td>1966-01-03</td>\n",
       "      <td>527.210022</td>\n",
       "      <td>527.210022</td>\n",
       "      <td>527.210022</td>\n",
       "      <td>527.210022</td>\n",
       "      <td>527.210022</td>\n",
       "      <td>0.0</td>\n",
       "    </tr>\n",
       "    <tr>\n",
       "      <th>2</th>\n",
       "      <td>NYA</td>\n",
       "      <td>1966-01-04</td>\n",
       "      <td>527.840027</td>\n",
       "      <td>527.840027</td>\n",
       "      <td>527.840027</td>\n",
       "      <td>527.840027</td>\n",
       "      <td>527.840027</td>\n",
       "      <td>0.0</td>\n",
       "    </tr>\n",
       "    <tr>\n",
       "      <th>3</th>\n",
       "      <td>NYA</td>\n",
       "      <td>1966-01-05</td>\n",
       "      <td>531.119995</td>\n",
       "      <td>531.119995</td>\n",
       "      <td>531.119995</td>\n",
       "      <td>531.119995</td>\n",
       "      <td>531.119995</td>\n",
       "      <td>0.0</td>\n",
       "    </tr>\n",
       "    <tr>\n",
       "      <th>4</th>\n",
       "      <td>NYA</td>\n",
       "      <td>1966-01-06</td>\n",
       "      <td>532.070007</td>\n",
       "      <td>532.070007</td>\n",
       "      <td>532.070007</td>\n",
       "      <td>532.070007</td>\n",
       "      <td>532.070007</td>\n",
       "      <td>0.0</td>\n",
       "    </tr>\n",
       "  </tbody>\n",
       "</table>\n",
       "</div>"
      ],
      "text/plain": [
       "  Index        Date        Open        High         Low       Close  \\\n",
       "0   NYA  1965-12-31  528.690002  528.690002  528.690002  528.690002   \n",
       "1   NYA  1966-01-03  527.210022  527.210022  527.210022  527.210022   \n",
       "2   NYA  1966-01-04  527.840027  527.840027  527.840027  527.840027   \n",
       "3   NYA  1966-01-05  531.119995  531.119995  531.119995  531.119995   \n",
       "4   NYA  1966-01-06  532.070007  532.070007  532.070007  532.070007   \n",
       "\n",
       "    Adj Close  Volume  \n",
       "0  528.690002     0.0  \n",
       "1  527.210022     0.0  \n",
       "2  527.840027     0.0  \n",
       "3  531.119995     0.0  \n",
       "4  532.070007     0.0  "
      ]
     },
     "execution_count": 3,
     "metadata": {},
     "output_type": "execute_result"
    }
   ],
   "source": [
    "df = pd.read_csv(DATASET_PATH)\n",
    "df.head(5)"
   ]
  },
  {
   "cell_type": "code",
   "execution_count": 4,
   "id": "c2f9785c",
   "metadata": {
    "execution": {
     "iopub.execute_input": "2024-01-06T16:33:08.049359Z",
     "iopub.status.busy": "2024-01-06T16:33:08.048900Z",
     "iopub.status.idle": "2024-01-06T16:33:08.068638Z",
     "shell.execute_reply": "2024-01-06T16:33:08.067644Z"
    },
    "papermill": {
     "duration": 0.026694,
     "end_time": "2024-01-06T16:33:08.070715",
     "exception": false,
     "start_time": "2024-01-06T16:33:08.044021",
     "status": "completed"
    },
    "tags": []
   },
   "outputs": [
    {
     "data": {
      "text/plain": [
       "111584"
      ]
     },
     "execution_count": 4,
     "metadata": {},
     "output_type": "execute_result"
    }
   ],
   "source": [
    "stocks_data = df[df['Index'] == NEW_YORK_STOCK_EXCHANGE_CODE]\n",
    "stocks_data.size"
   ]
  },
  {
   "cell_type": "code",
   "execution_count": 5,
   "id": "bab32683",
   "metadata": {
    "execution": {
     "iopub.execute_input": "2024-01-06T16:33:08.079536Z",
     "iopub.status.busy": "2024-01-06T16:33:08.079155Z",
     "iopub.status.idle": "2024-01-06T16:33:08.718873Z",
     "shell.execute_reply": "2024-01-06T16:33:08.718122Z"
    },
    "papermill": {
     "duration": 0.646799,
     "end_time": "2024-01-06T16:33:08.721074",
     "exception": false,
     "start_time": "2024-01-06T16:33:08.074275",
     "status": "completed"
    },
    "tags": []
   },
   "outputs": [
    {
     "data": {
      "image/png": "[encoded data removed]",
      "text/plain": [
       "<Figure size 1200x600 with 2 Axes>"
      ]
     },
     "metadata": {},
     "output_type": "display_data"
    },
    {
     "name": "stdout",
     "output_type": "stream",
     "text": [
      "Opening Price is normally distributed (fail to reject H0)\n"
     ]
    }
   ],
   "source": [
    "# Plot histogram\n",
    "plt.figure(figsize=(12, 6))\n",
    "plt.subplot(1, 2, 1)\n",
    "plt.hist(stocks_data['Open'], bins=20, color='blue', edgecolor='black')\n",
    "plt.title('Histogram of Opening Price')\n",
    "plt.xlabel('Open')\n",
    "plt.ylabel('Frequency')\n",
    "\n",
    "# Plot probability plot (quantile-quantile plot)\n",
    "plt.subplot(1, 2, 2)\n",
    "probplot(stocks_data['Open'], dist='norm', plot=plt)\n",
    "plt.title('Probability Plot (Q-Q Plot)')\n",
    "\n",
    "# Show the plots\n",
    "plt.tight_layout()\n",
    "plt.show()\n",
    "\n",
    "# Perform Shapiro-Wilk test\n",
    "stat, p_value = shapiro(stocks_data['Open'])\n",
    "\n",
    "# Set the significance level (e.g., 0.05)\n",
    "alpha = 0.05\n",
    "\n",
    "# Check if the p-value is less than the significance level\n",
    "if p_value > alpha:\n",
    "    print(\"Opening Price is normally distributed (fail to reject H0)\")\n",
    "else:\n",
    "    print(\"Opening Price is not normally distributed (reject H0)\")"
   ]
  },
  {
   "cell_type": "code",
   "execution_count": null,
   "id": "29ccbd8f",
   "metadata": {
    "papermill": {
     "duration": 0.004294,
     "end_time": "2024-01-06T16:33:08.729852",
     "exception": false,
     "start_time": "2024-01-06T16:33:08.725558",
     "status": "completed"
    },
    "tags": []
   },
   "outputs": [],
   "source": []
  },
  {
   "cell_type": "code",
   "execution_count": null,
   "id": "9de1e4ad",
   "metadata": {
    "papermill": {
     "duration": 0.004241,
     "end_time": "2024-01-06T16:33:08.738414",
     "exception": false,
     "start_time": "2024-01-06T16:33:08.734173",
     "status": "completed"
    },
    "tags": []
   },
   "outputs": [],
   "source": []
  },
  {
   "cell_type": "code",
   "execution_count": null,
   "id": "61c76f64",
   "metadata": {
    "papermill": {
     "duration": 0.004158,
     "end_time": "2024-01-06T16:33:08.747014",
     "exception": false,
     "start_time": "2024-01-06T16:33:08.742856",
     "status": "completed"
    },
    "tags": []
   },
   "outputs": [],
   "source": []
  },
  {
   "cell_type": "code",
   "execution_count": null,
   "id": "ee36ef98",
   "metadata": {
    "papermill": {
     "duration": 0.00406,
     "end_time": "2024-01-06T16:33:08.755636",
     "exception": false,
     "start_time": "2024-01-06T16:33:08.751576",
     "status": "completed"
    },
    "tags": []
   },
   "outputs": [],
   "source": []
  }
 ],
 "metadata": {
  "kaggle": {
   "accelerator": "none",
   "dataSources": [
    {
     "datasetId": 1387282,
     "sourceId": 2312307,
     "sourceType": "datasetVersion"
    }
   ],
   "dockerImageVersionId": 30626,
   "isGpuEnabled": false,
   "isInternetEnabled": true,
   "language": "python",
   "sourceType": "notebook"
  },
  "kernelspec": {
   "display_name": "Python 3",
   "language": "python",
   "name": "python3"
  },
  "language_info": {
   "codemirror_mode": {
    "name": "ipython",
    "version": 3
   },
   "file_extension": ".py",
   "mimetype": "text/x-python",
   "name": "python",
   "nbconvert_exporter": "python",
   "pygments_lexer": "ipython3",
   "version": "3.10.12"
  },
  "papermill": {
   "default_parameters": {},
   "duration": 5.986314,
   "end_time": "2024-01-06T16:33:09.380662",
   "environment_variables": {},
   "exception": null,
   "input_path": "__notebook__.ipynb",
   "output_path": "__notebook__.ipynb",
   "parameters": {},
   "start_time": "2024-01-06T16:33:03.394348",
   "version": "2.4.0"
  }
 },
 "nbformat": 4,
 "nbformat_minor": 5
}
